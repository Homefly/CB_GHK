{
 "cells": [
  {
   "cell_type": "code",
   "execution_count": 1,
   "id": "caring-circumstances",
   "metadata": {},
   "outputs": [
    {
     "data": {
      "text/html": [
       "<div>\n",
       "<style scoped>\n",
       "    .dataframe tbody tr th:only-of-type {\n",
       "        vertical-align: middle;\n",
       "    }\n",
       "\n",
       "    .dataframe tbody tr th {\n",
       "        vertical-align: top;\n",
       "    }\n",
       "\n",
       "    .dataframe thead th {\n",
       "        text-align: right;\n",
       "    }\n",
       "</style>\n",
       "<table border=\"1\" class=\"dataframe\">\n",
       "  <thead>\n",
       "    <tr style=\"text-align: right;\">\n",
       "      <th></th>\n",
       "      <th>low</th>\n",
       "      <th>high</th>\n",
       "      <th>open</th>\n",
       "      <th>close</th>\n",
       "      <th>volume</th>\n",
       "      <th>del</th>\n",
       "    </tr>\n",
       "    <tr>\n",
       "      <th>time</th>\n",
       "      <th></th>\n",
       "      <th></th>\n",
       "      <th></th>\n",
       "      <th></th>\n",
       "      <th></th>\n",
       "      <th></th>\n",
       "    </tr>\n",
       "  </thead>\n",
       "  <tbody>\n",
       "    <tr>\n",
       "      <th>1609459260</th>\n",
       "      <td>29026.97</td>\n",
       "      <td>29083.75</td>\n",
       "      <td>29030.81</td>\n",
       "      <td>29079.56</td>\n",
       "      <td>27.489035</td>\n",
       "      <td>0</td>\n",
       "    </tr>\n",
       "    <tr>\n",
       "      <th>1609459320</th>\n",
       "      <td>29027.14</td>\n",
       "      <td>29079.56</td>\n",
       "      <td>29079.56</td>\n",
       "      <td>29053.76</td>\n",
       "      <td>32.481299</td>\n",
       "      <td>60</td>\n",
       "    </tr>\n",
       "    <tr>\n",
       "      <th>1609459380</th>\n",
       "      <td>29027.71</td>\n",
       "      <td>29059.40</td>\n",
       "      <td>29051.13</td>\n",
       "      <td>29041.72</td>\n",
       "      <td>8.934692</td>\n",
       "      <td>120</td>\n",
       "    </tr>\n",
       "    <tr>\n",
       "      <th>1609459440</th>\n",
       "      <td>29028.52</td>\n",
       "      <td>29052.35</td>\n",
       "      <td>29038.45</td>\n",
       "      <td>29034.30</td>\n",
       "      <td>20.515934</td>\n",
       "      <td>180</td>\n",
       "    </tr>\n",
       "    <tr>\n",
       "      <th>1609459500</th>\n",
       "      <td>28983.79</td>\n",
       "      <td>29031.71</td>\n",
       "      <td>29029.75</td>\n",
       "      <td>28997.34</td>\n",
       "      <td>14.545323</td>\n",
       "      <td>240</td>\n",
       "    </tr>\n",
       "    <tr>\n",
       "      <th>...</th>\n",
       "      <td>...</td>\n",
       "      <td>...</td>\n",
       "      <td>...</td>\n",
       "      <td>...</td>\n",
       "      <td>...</td>\n",
       "      <td>...</td>\n",
       "    </tr>\n",
       "    <tr>\n",
       "      <th>1612115760</th>\n",
       "      <td>32252.71</td>\n",
       "      <td>32382.77</td>\n",
       "      <td>32382.77</td>\n",
       "      <td>32291.58</td>\n",
       "      <td>84.612600</td>\n",
       "      <td>2656500</td>\n",
       "    </tr>\n",
       "    <tr>\n",
       "      <th>1612115820</th>\n",
       "      <td>32280.00</td>\n",
       "      <td>32487.46</td>\n",
       "      <td>32291.58</td>\n",
       "      <td>32400.48</td>\n",
       "      <td>43.410869</td>\n",
       "      <td>2656560</td>\n",
       "    </tr>\n",
       "    <tr>\n",
       "      <th>1612115880</th>\n",
       "      <td>32215.00</td>\n",
       "      <td>32415.77</td>\n",
       "      <td>32400.08</td>\n",
       "      <td>32223.85</td>\n",
       "      <td>94.305981</td>\n",
       "      <td>2656620</td>\n",
       "    </tr>\n",
       "    <tr>\n",
       "      <th>1612115940</th>\n",
       "      <td>32217.68</td>\n",
       "      <td>32344.88</td>\n",
       "      <td>32217.68</td>\n",
       "      <td>32319.48</td>\n",
       "      <td>19.588375</td>\n",
       "      <td>2656680</td>\n",
       "    </tr>\n",
       "    <tr>\n",
       "      <th>1612116000</th>\n",
       "      <td>32200.00</td>\n",
       "      <td>32328.42</td>\n",
       "      <td>32319.48</td>\n",
       "      <td>32207.16</td>\n",
       "      <td>55.639607</td>\n",
       "      <td>2656740</td>\n",
       "    </tr>\n",
       "  </tbody>\n",
       "</table>\n",
       "<p>44261 rows × 6 columns</p>\n",
       "</div>"
      ],
      "text/plain": [
       "                 low      high      open     close     volume      del\n",
       "time                                                                  \n",
       "1609459260  29026.97  29083.75  29030.81  29079.56  27.489035        0\n",
       "1609459320  29027.14  29079.56  29079.56  29053.76  32.481299       60\n",
       "1609459380  29027.71  29059.40  29051.13  29041.72   8.934692      120\n",
       "1609459440  29028.52  29052.35  29038.45  29034.30  20.515934      180\n",
       "1609459500  28983.79  29031.71  29029.75  28997.34  14.545323      240\n",
       "...              ...       ...       ...       ...        ...      ...\n",
       "1612115760  32252.71  32382.77  32382.77  32291.58  84.612600  2656500\n",
       "1612115820  32280.00  32487.46  32291.58  32400.48  43.410869  2656560\n",
       "1612115880  32215.00  32415.77  32400.08  32223.85  94.305981  2656620\n",
       "1612115940  32217.68  32344.88  32217.68  32319.48  19.588375  2656680\n",
       "1612116000  32200.00  32328.42  32319.48  32207.16  55.639607  2656740\n",
       "\n",
       "[44261 rows x 6 columns]"
      ]
     },
     "execution_count": 1,
     "metadata": {},
     "output_type": "execute_result"
    }
   ],
   "source": [
    "%matplotlib widget\n",
    "from CB_Data import CBData\n",
    "can = CBData.loadData('data/candles_2021-01-01T0:00:00__2021-01-31T18:00:00')\n",
    "CBData.cleanData(can)\n",
    "can = can.drop_duplicates()\n",
    "can"
   ]
  },
  {
   "cell_type": "code",
   "execution_count": 2,
   "id": "appropriate-singing",
   "metadata": {},
   "outputs": [
    {
     "name": "stdout",
     "output_type": "stream",
     "text": [
      "0.0\n",
      "0.0\n",
      "0.02\n",
      "0.02\n",
      "0.04\n",
      "0.04\n",
      "0.06\n",
      "0.06\n",
      "0.08\n",
      "0.08\n",
      "0.1\n",
      "0.1\n",
      "0.12\n",
      "0.12\n",
      "0.14\n",
      "0.14\n",
      "0.16\n",
      "0.16\n",
      "0.18\n",
      "0.18\n",
      "0.2\n",
      "0.2\n",
      "0.22\n",
      "0.22\n",
      "0.24\n",
      "0.24\n",
      "0.26\n",
      "0.26\n",
      "0.28\n",
      "0.28\n",
      "0.3\n",
      "0.3\n",
      "0.32\n",
      "0.32\n",
      "0.34\n",
      "0.34\n",
      "0.36\n",
      "0.36\n",
      "0.38\n",
      "0.38\n",
      "0.4\n",
      "0.4\n",
      "0.42\n",
      "0.42\n",
      "0.44\n",
      "0.44\n",
      "0.46\n",
      "0.46\n",
      "0.48\n",
      "0.48\n",
      "0.5\n",
      "0.5\n",
      "0.52\n",
      "0.52\n",
      "0.54\n",
      "0.54\n"
     ]
    }
   ],
   "source": [
    "# setting GHK\n",
    "import numpy as np\n",
    "from filterpy.gh import GHFilter\n",
    "\n",
    "hyperParam = {}\n",
    "\n",
    "for w in np.arange(0., .55, .02):\n",
    "    print(w)\n",
    "    g = 2 * w\n",
    "    h = 2 * w**2\n",
    "    #k = w**3\n",
    "    hyperParam[str(w)] = {'g': g, 'h':h}\n",
    "    #import ipdb; ipdb.set_trace()\n",
    "    f = GHFilter(x = can.iloc[0]['close'], dx = 0., \n",
    "                  dt = 1., g = hyperParam[str(w)]['g'], h = hyperParam[str(w)]['h'])\n",
    "    results = f.batch_filter(list(can['close']))\n",
    "    #import ipdb; ipdb.set_trace()\n",
    "    can[f'w:{w:.2f}_x'] = results[1:,0]\n",
    "    can[f'w:{w:.2f}_dx'] = results[1:,1]\n",
    "    print(w)\n",
    "    \n",
    "    \n",
    "#f = GHKFilter(x, dx, ddx, dt, g, h, k)\n",
    "\n",
    "#results = f.batch_filter(list(can['close'])"
   ]
  },
  {
   "cell_type": "code",
   "execution_count": 3,
   "id": "female-techno",
   "metadata": {},
   "outputs": [
    {
     "data": {
      "application/vnd.jupyter.widget-view+json": {
       "model_id": "0a33031501b64c85b052d378b3d4cb43",
       "version_major": 2,
       "version_minor": 0
      },
      "text/plain": [
       "Canvas(toolbar=Toolbar(toolitems=[('Home', 'Reset original view', 'home', 'home'), ('Back', 'Back to previous …"
      ]
     },
     "metadata": {},
     "output_type": "display_data"
    }
   ],
   "source": [
    "%matplotlib widget\n",
    "import matplotlib.pyplot as plt\n",
    "import numpy as np\n",
    "import pandas as pd\n",
    "\n",
    "#plt.ioff()\n",
    "can.iloc[0:10]\n",
    "can['delMin'] = can['del']/60\n",
    "can['delMin'] = pd.to_numeric(can['delMin'], downcast='integer')\n",
    "can.head()\n",
    "can.plot(x= 'delMin', y = ['close', 'w:0.02_x', 'w:0.04_x', 'w:0.06_x'])\n",
    "#can.plot(x= 'delMin', y = ['close', 'w:0.05_x', 'w:0.10_x', 'w:0.15_x'])\n",
    "\n",
    "\n",
    "#plt.close(\"all\")\n",
    "#plt.plot(s)\n",
    "plt.show()"
   ]
  },
  {
   "cell_type": "code",
   "execution_count": 4,
   "id": "adolescent-attempt",
   "metadata": {},
   "outputs": [
    {
     "name": "stdout",
     "output_type": "stream",
     "text": [
      "29079.56\n"
     ]
    },
    {
     "data": {
      "application/vnd.jupyter.widget-view+json": {
       "model_id": "7aa8db5527ef49209285188ba9011187",
       "version_major": 2,
       "version_minor": 0
      },
      "text/plain": [
       "interactive(children=(FloatSlider(value=33000.0, continuous_update=False, description='x', max=42000.0, min=33…"
      ]
     },
     "metadata": {},
     "output_type": "display_data"
    },
    {
     "data": {
      "text/plain": [
       "<function __main__.interactive_gh(x, dx, g, h)>"
      ]
     },
     "execution_count": 4,
     "metadata": {},
     "output_type": "execute_result"
    }
   ],
   "source": [
    "import sys\n",
    "sys.path.append('Kalman-and-Bayesian-Filters-in-Python/kf_book')\n",
    "from book_plots import FloatSlider\n",
    "\n",
    "from ipywidgets import interact\n",
    "import matplotlib.pyplot as plt\n",
    "from filterpy.gh import GHKFilter\n",
    "#zs1 = gen_data(x0=5, dx=5., count=100, noise_factor=50)\n",
    "#ddx = -5\n",
    "#zACC = gen_data(x0=5, dx= 5., ddx = -.01, count=1000, noise_factor=50)\n",
    "#print(zACC)\n",
    "raw = can['close'][:5000]\n",
    "\n",
    "fig = None\n",
    "def interactive_gh(x, dx, g, h):\n",
    "    global fig\n",
    "    if fig is not None: plt.close(fig)\n",
    "    fig = plt.figure()\n",
    "    f = GHFilter(x=x, dx=dx, dt=1., g=g, h=h,)\n",
    "    data = f.batch_filter(raw)\n",
    "    #print(data[:, 0])\n",
    "    plt.scatter(range(len(raw)), raw, edgecolor='k', \n",
    "                facecolors='none', marker='o', lw=1)\n",
    "    plt.plot(data[:, 0], color='b')\n",
    "\n",
    "print(raw.iloc[0])\n",
    "interact(interactive_gh,           \n",
    "         x=FloatSlider(value=raw.iloc[0], min=33000, max=42000), \n",
    "         dx=FloatSlider(value=0., min=-50, max=50), \n",
    "         #ddx=FloatSlider(value=-.1, min=-1, max=1), \n",
    "         g=FloatSlider(value=.01, min=.0, max=.02, step=.002, readout_format = '.4f'),\n",
    "         h=FloatSlider(value=.0001, min=.0, max=5e-4, step=1.e-5, readout_format = '.5f'))\n",
    "         #k=FloatSlider(value=.00, min=.0, max=.1, step=.0001, readout_format = '.4f'));"
   ]
  },
  {
   "cell_type": "code",
   "execution_count": 37,
   "id": "native-entity",
   "metadata": {},
   "outputs": [
    {
     "name": "stdout",
     "output_type": "stream",
     "text": [
      "29079.56\n"
     ]
    },
    {
     "data": {
      "application/vnd.jupyter.widget-view+json": {
       "model_id": "ffa16842c7ee4ea0bf8c12e233683a58",
       "version_major": 2,
       "version_minor": 0
      },
      "text/plain": [
       "interactive(children=(FloatSlider(value=33000.0, continuous_update=False, description='x', max=42000.0, min=33…"
      ]
     },
     "metadata": {},
     "output_type": "display_data"
    }
   ],
   "source": [
    "import sys\n",
    "sys.path.append('Kalman-and-Bayesian-Filters-in-Python/kf_book')\n",
    "from book_plots import FloatSlider\n",
    "\n",
    "from ipywidgets import interact\n",
    "import matplotlib.pyplot as plt\n",
    "from filterpy.gh import GHKFilter\n",
    "#zs1 = gen_data(x0=5, dx=5., count=100, noise_factor=50)\n",
    "#ddx = -5\n",
    "#zACC = gen_data(x0=5, dx= 5., ddx = -.01, count=1000, noise_factor=50)\n",
    "#print(zACC)\n",
    "raw = can['close']\n",
    "\n",
    "fig = None\n",
    "def interactive_ghk(x, dx, ddx, g, h, k):\n",
    "    global fig\n",
    "    if fig is not None: plt.close(fig)\n",
    "    fig = plt.figure()\n",
    "    f = GHKFilter(x=x, dx=dx, dt=1., ddx = ddx, g=g, h=h, k=k)\n",
    "    data = f.batch_filter(raw)\n",
    "    #print(data[:, 0])\n",
    "    days = np.linspace(0, 30, len(raw), endpoint=True)\n",
    "    plt.scatter(days, raw, edgecolor='k',\n",
    "                facecolors='none', marker='o', lw=1)\n",
    "    plt.plot(days, data[1:, 0], color='b')\n",
    "\n",
    "print(raw.iloc[0])\n",
    "interact(interactive_ghk,           \n",
    "         x=FloatSlider(value=raw.iloc[0], min=33000, max=42000), \n",
    "         dx=FloatSlider(value=0., min=-50, max=50), \n",
    "         ddx=FloatSlider(value=0., min=-1, max=1), \n",
    "         g=FloatSlider(value=0.002, min=.0, max=.02, step=.002, readout_format = '.4f'),\n",
    "         h=FloatSlider(value=1.0e-06, min=.0, max=5e-4, step=1.e-5, readout_format = '.5f'),\n",
    "         k=FloatSlider(value= 0, min=.0, max=.1, step=.0001, readout_format = '.4f'));"
   ]
  },
  {
   "cell_type": "code",
   "execution_count": 6,
   "id": "light-yemen",
   "metadata": {},
   "outputs": [],
   "source": [
    "#close open figures\n",
    "plt.close('all')"
   ]
  },
  {
   "cell_type": "code",
   "execution_count": 7,
   "id": "directed-roller",
   "metadata": {},
   "outputs": [
    {
     "name": "stdout",
     "output_type": "stream",
     "text": [
      "1.0 3.0\n",
      "1.0 1.0\n",
      "0.8333333333333334 0.5\n",
      "0.7 0.3\n",
      "0.6 0.2\n",
      "0.5238095238095238 0.14285714285714285\n",
      "0.4642857142857143 0.10714285714285714\n",
      "0.4166666666666667 0.08333333333333333\n",
      "0.37777777777777777 0.06666666666666667\n",
      "0.34545454545454546 0.05454545454545454\n"
     ]
    }
   ],
   "source": [
    "#some interesting filter values\n",
    "from filterpy.gh import GHFilter, least_squares_parameters\n",
    "\n",
    "lsf = GHFilter (0, 0, 1, 0, 0)\n",
    "z = 10\n",
    "for i in range(10):\n",
    "    g,h = least_squares_parameters(i)\n",
    "    lsf.update(z, g, h)\n",
    "    print(g, h)"
   ]
  },
  {
   "cell_type": "code",
   "execution_count": 24,
   "id": "informal-internet",
   "metadata": {},
   "outputs": [
    {
     "name": "stdout",
     "output_type": "stream",
     "text": [
      "0.001 5.002501563594566e-07 6.256255376869177e-11\n"
     ]
    }
   ],
   "source": [
    "from filterpy.gh import *\n",
    "g,h,k = optimal_noise_smoothing(.001)\n",
    "print(g,h,k)\n",
    "#f = GHKFilter(0,0,0,1,g,h,k)\n",
    "#f.update(1.)"
   ]
  },
  {
   "cell_type": "code",
   "execution_count": null,
   "id": "possible-prospect",
   "metadata": {},
   "outputs": [],
   "source": []
  },
  {
   "cell_type": "code",
   "execution_count": 5,
   "id": "streaming-complexity",
   "metadata": {},
   "outputs": [
    {
     "data": {
      "text/plain": [
       "(0.001998999999999973, 1.0000000000000019e-06)"
      ]
     },
     "execution_count": 5,
     "metadata": {},
     "output_type": "execute_result"
    }
   ],
   "source": [
    "from filterpy.gh.gh_filter import *\n",
    "critical_damping_parameters(.999)"
   ]
  },
  {
   "cell_type": "code",
   "execution_count": 6,
   "id": "visible-ozone",
   "metadata": {},
   "outputs": [
    {
     "name": "stdout",
     "output_type": "stream",
     "text": [
      "(0.0002, 2.000200020002e-08)\n",
      "(0.0002, 8.881784197001252e-09)\n"
     ]
    }
   ],
   "source": [
    "print(benedict_bornder_constants(.0002))\n",
    "print(benedict_bornder_constants(.0002, critical=True))"
   ]
  },
  {
   "cell_type": "code",
   "execution_count": 7,
   "id": "julian-charge",
   "metadata": {},
   "outputs": [
    {
     "ename": "NameError",
     "evalue": "name 'can' is not defined",
     "output_type": "error",
     "traceback": [
      "\u001b[0;31m---------------------------------------------------------------------------\u001b[0m",
      "\u001b[0;31mNameError\u001b[0m                                 Traceback (most recent call last)",
      "\u001b[0;32m<ipython-input-7-9d5e8c5e4159>\u001b[0m in \u001b[0;36m<module>\u001b[0;34m\u001b[0m\n\u001b[1;32m      7\u001b[0m \u001b[0;31m#zACC = gen_data(x0=5, dx= 5., ddx = -.01, count=1000, noise_factor=50)\u001b[0m\u001b[0;34m\u001b[0m\u001b[0;34m\u001b[0m\u001b[0m\n\u001b[1;32m      8\u001b[0m \u001b[0;31m#print(zACC)\u001b[0m\u001b[0;34m\u001b[0m\u001b[0;34m\u001b[0m\u001b[0m\n\u001b[0;32m----> 9\u001b[0;31m \u001b[0mraw\u001b[0m \u001b[0;34m=\u001b[0m \u001b[0mcan\u001b[0m\u001b[0;34m[\u001b[0m\u001b[0;34m'close'\u001b[0m\u001b[0;34m]\u001b[0m\u001b[0;34m\u001b[0m\u001b[0;34m\u001b[0m\u001b[0m\n\u001b[0m\u001b[1;32m     10\u001b[0m \u001b[0;34m\u001b[0m\u001b[0m\n\u001b[1;32m     11\u001b[0m \u001b[0mfig\u001b[0m \u001b[0;34m=\u001b[0m \u001b[0;32mNone\u001b[0m\u001b[0;34m\u001b[0m\u001b[0;34m\u001b[0m\u001b[0m\n",
      "\u001b[0;31mNameError\u001b[0m: name 'can' is not defined"
     ]
    }
   ],
   "source": [
    "from ipywidgets import interact\n",
    "import matplotlib.pyplot as plt\n",
    "from filterpy.gh import GHKFilter\n",
    "from filterpy.gh.gh_filter import *\n",
    "#zs1 = gen_data(x0=5, dx=5., count=100, noise_factor=50)\n",
    "#ddx = -5\n",
    "#zACC = gen_data(x0=5, dx= 5., ddx = -.01, count=1000, noise_factor=50)\n",
    "#print(zACC)\n",
    "raw = can['close']\n",
    "\n",
    "fig = None\n",
    "def benedict_gh(x, dx, g):\n",
    "    global fig\n",
    "    if fig is not None: plt.close(fig)\n",
    "    fig = plt.figure()\n",
    "    _, h = benedict_bornder_constants(g=g)\n",
    "    f = GHFilter(x=x, dx=dx, dt=1., g=g, h=h)\n",
    "    data = f.batch_filter(raw)\n",
    "    #print(data[:, 0])\n",
    "    days = np.linspace(0, len(raw)/(24*60), len(raw), endpoint=True)\n",
    "    plt.scatter(days, raw, edgecolor='k',\n",
    "                facecolors='none', marker='o', lw=1)\n",
    "    plt.plot(days, data[1:, 0], color='b')\n",
    "    print(g, h)\n",
    "\n",
    "\n",
    "interact(benedict_gh,           \n",
    "         x=FloatSlider(value=raw.iloc[0], min=25000, max=30000), \n",
    "         dx=FloatSlider(value=0., min=-50, max=50), \n",
    "         ddx=FloatSlider(value=0., min=-1, max=1), \n",
    "         g=FloatSlider(value=0.001, min=.0, max=.02, step=.0001, readout_format = '.4f'));\n",
    "         #h=FloatSlider(value=1.0e-06, min=.0, max=5e-4, step=1.e-5, readout_format = '.5f'),\n",
    "         #k=FloatSlider(value= 0, min=.0, max=.1, step=.0001, readout_format = '.4f'));"
   ]
  },
  {
   "cell_type": "code",
   "execution_count": null,
   "id": "metropolitan-shirt",
   "metadata": {},
   "outputs": [],
   "source": [
    "x\n",
    "29079.56\n",
    "dx\n",
    "0.00\n",
    "g\n",
    "0.0014\n",
    "Figure 20\n",
    "x=7.851 y=2.736e+04\n",
    "0.0014 9.806864805363754e-07\n",
    "\n",
    "#calc "
   ]
  },
  {
   "cell_type": "code",
   "execution_count": null,
   "id": "threatened-planner",
   "metadata": {},
   "outputs": [
    {
     "name": "stdout",
     "output_type": "stream",
     "text": [
      "0.0\n",
      "0.0001\n",
      "0.0002\n",
      "0.00030000000000000003\n",
      "0.0004\n",
      "0.0005\n",
      "0.0006000000000000001\n",
      "0.0007\n",
      "0.0008\n",
      "0.0009000000000000001\n",
      "0.001\n",
      "0.0011\n",
      "0.0012000000000000001\n",
      "0.0013000000000000002\n",
      "0.0014\n",
      "0.0015\n",
      "0.0016\n",
      "0.0017000000000000001\n",
      "0.0018000000000000002\n",
      "0.0019\n",
      "0.002\n",
      "0.0021000000000000003\n",
      "0.0022\n",
      "0.0023\n",
      "0.0024000000000000002\n",
      "0.0025\n",
      "0.0026000000000000003\n",
      "0.0027\n",
      "0.0028\n",
      "0.0029000000000000002\n",
      "0.003\n",
      "0.0031000000000000003\n",
      "0.0032\n",
      "0.0033\n",
      "0.0034000000000000002\n",
      "0.0035\n",
      "0.0036000000000000003\n",
      "0.0037\n",
      "0.0038\n",
      "0.0039000000000000003\n",
      "0.004\n",
      "0.0041\n",
      "0.004200000000000001\n",
      "0.0043\n",
      "0.0044\n",
      "0.0045000000000000005\n",
      "0.0046\n",
      "0.0047\n",
      "0.0048000000000000004\n",
      "0.0049\n",
      "0.005\n"
     ]
    }
   ],
   "source": [
    "# setting GHK\n",
    "import numpy as np\n",
    "from filterpy.gh import GHFilter\n",
    "\n",
    "hyperParam = {}\n",
    "0.0015\n",
    "for g in np.linspace(0., 5.e-3, 51):\n",
    "    print(g)\n",
    "    _, h = benedict_bornder_constants(g=g)\n",
    "\n",
    "    hyperParam[str(g)] = {'g': g, 'h':h}\n",
    "    #import ipdb; ipdb.set_trace()\n",
    "    f = GHFilter(x = can.iloc[0]['close'], dx = 0., \n",
    "                  dt = 1., g = hyperParam[str(g)]['g'], h = hyperParam[str(g)]['h'])\n",
    "    results = f.batch_filter(list(can['close']))\n",
    "    #import ipdb; ipdb.set_trace()\n",
    "    can[f'g:{g:.4f}_x'] = results[1:,0]\n",
    "    can[f'g:{g:.4f}_dx'] = results[1:,1]\n",
    "    \n",
    "    \n",
    "#f = GHKFilter(x, dx, ddx, dt, g, h, k)\n",
    "\n",
    "#results = f.batch_filter(list(can['close'])"
   ]
  },
  {
   "cell_type": "code",
   "execution_count": null,
   "id": "substantial-draft",
   "metadata": {},
   "outputs": [
    {
     "name": "stdout",
     "output_type": "stream",
     "text": [
      "['low',\n",
      " 'high',\n",
      " 'open',\n",
      " 'close',\n",
      " 'volume',\n",
      " 'del',\n",
      " 'w:0.00_x',\n",
      " 'w:0.00_dx',\n",
      " 'w:0.02_x',\n",
      " 'w:0.02_dx',\n",
      " 'w:0.04_x',\n",
      " 'w:0.04_dx',\n",
      " 'w:0.06_x',\n",
      " 'w:0.06_dx',\n",
      " 'w:0.08_x',\n",
      " 'w:0.08_dx',\n",
      " 'w:0.10_x',\n",
      " 'w:0.10_dx',\n",
      " 'w:0.12_x',\n",
      " 'w:0.12_dx',\n",
      " 'w:0.14_x',\n",
      " 'w:0.14_dx',\n",
      " 'w:0.16_x',\n",
      " 'w:0.16_dx',\n",
      " 'w:0.18_x',\n",
      " 'w:0.18_dx',\n",
      " 'w:0.20_x',\n",
      " 'w:0.20_dx',\n",
      " 'w:0.22_x',\n",
      " 'w:0.22_dx',\n",
      " 'w:0.24_x',\n",
      " 'w:0.24_dx',\n",
      " 'w:0.26_x',\n",
      " 'w:0.26_dx',\n",
      " 'w:0.28_x',\n",
      " 'w:0.28_dx',\n",
      " 'w:0.30_x',\n",
      " 'w:0.30_dx',\n",
      " 'w:0.32_x',\n",
      " 'w:0.32_dx',\n",
      " 'w:0.34_x',\n",
      " 'w:0.34_dx',\n",
      " 'w:0.36_x',\n",
      " 'w:0.36_dx',\n",
      " 'w:0.38_x',\n",
      " 'w:0.38_dx',\n",
      " 'w:0.40_x',\n",
      " 'w:0.40_dx',\n",
      " 'w:0.42_x',\n",
      " 'w:0.42_dx',\n",
      " 'w:0.44_x',\n",
      " 'w:0.44_dx',\n",
      " 'w:0.46_x',\n",
      " 'w:0.46_dx',\n",
      " 'w:0.48_x',\n",
      " 'w:0.48_dx',\n",
      " 'w:0.50_x',\n",
      " 'w:0.50_dx',\n",
      " 'w:0.52_x',\n",
      " 'w:0.52_dx',\n",
      " 'w:0.54_x',\n",
      " 'w:0.54_dx',\n",
      " 'delMin',\n",
      " 'w:0.5400_x',\n",
      " 'w:0.5400_dx',\n",
      " 'g:0.0000_x',\n",
      " 'g:0.0000_dx',\n",
      " 'g:0.0001_x',\n",
      " 'g:0.0001_dx',\n",
      " 'g:0.0002_x',\n",
      " 'g:0.0002_dx',\n",
      " 'g:0.0003_x',\n",
      " 'g:0.0003_dx',\n",
      " 'g:0.0004_x',\n",
      " 'g:0.0004_dx',\n",
      " 'g:0.0005_x',\n",
      " 'g:0.0005_dx',\n",
      " 'g:0.0006_x',\n",
      " 'g:0.0006_dx',\n",
      " 'g:0.0007_x',\n",
      " 'g:0.0007_dx',\n",
      " 'g:0.0008_x',\n",
      " 'g:0.0008_dx',\n",
      " 'g:0.0009_x',\n",
      " 'g:0.0009_dx',\n",
      " 'g:0.0010_x',\n",
      " 'g:0.0010_dx',\n",
      " 'g:0.0011_x',\n",
      " 'g:0.0011_dx',\n",
      " 'g:0.0012_x',\n",
      " 'g:0.0012_dx',\n",
      " 'g:0.0013_x',\n",
      " 'g:0.0013_dx',\n",
      " 'g:0.0014_x',\n",
      " 'g:0.0014_dx',\n",
      " 'g:0.0015_x',\n",
      " 'g:0.0015_dx',\n",
      " 'g:0.0016_x',\n",
      " 'g:0.0016_dx',\n",
      " 'g:0.0017_x',\n",
      " 'g:0.0017_dx',\n",
      " 'g:0.0018_x',\n",
      " 'g:0.0018_dx',\n",
      " 'g:0.0019_x',\n",
      " 'g:0.0019_dx',\n",
      " 'g:0.0020_x',\n",
      " 'g:0.0020_dx',\n",
      " 'g:0.0021_x',\n",
      " 'g:0.0021_dx',\n",
      " 'g:0.0022_x',\n",
      " 'g:0.0022_dx',\n",
      " 'g:0.0023_x',\n",
      " 'g:0.0023_dx',\n",
      " 'g:0.0024_x',\n",
      " 'g:0.0024_dx',\n",
      " 'g:0.0025_x',\n",
      " 'g:0.0025_dx',\n",
      " 'g:0.0026_x',\n",
      " 'g:0.0026_dx',\n",
      " 'g:0.0027_x',\n",
      " 'g:0.0027_dx',\n",
      " 'g:0.0028_x',\n",
      " 'g:0.0028_dx',\n",
      " 'g:0.0029_x',\n",
      " 'g:0.0029_dx',\n",
      " 'g:0.0030_x',\n",
      " 'g:0.0030_dx',\n",
      " 'g:0.0031_x',\n",
      " 'g:0.0031_dx',\n",
      " 'g:0.0032_x',\n",
      " 'g:0.0032_dx',\n",
      " 'g:0.0033_x',\n",
      " 'g:0.0033_dx',\n",
      " 'g:0.0034_x',\n",
      " 'g:0.0034_dx',\n",
      " 'g:0.0035_x',\n",
      " 'g:0.0035_dx',\n",
      " 'g:0.0036_x',\n",
      " 'g:0.0036_dx',\n",
      " 'g:0.0037_x',\n",
      " 'g:0.0037_dx',\n",
      " 'g:0.0038_x',\n",
      " 'g:0.0038_dx',\n",
      " 'g:0.0039_x',\n",
      " 'g:0.0039_dx',\n",
      " 'g:0.0040_x',\n",
      " 'g:0.0040_dx',\n",
      " 'g:0.0041_x',\n",
      " 'g:0.0041_dx',\n",
      " 'g:0.0042_x',\n",
      " 'g:0.0042_dx',\n",
      " 'g:0.0043_x',\n",
      " 'g:0.0043_dx',\n",
      " 'g:0.0044_x',\n",
      " 'g:0.0044_dx',\n",
      " 'g:0.0045_x',\n",
      " 'g:0.0045_dx',\n",
      " 'g:0.0046_x',\n",
      " 'g:0.0046_dx',\n",
      " 'g:0.0047_x',\n",
      " 'g:0.0047_dx',\n",
      " 'g:0.0048_x',\n",
      " 'g:0.0048_dx',\n",
      " 'g:0.0049_x',\n",
      " 'g:0.0049_dx',\n",
      " 'g:0.0050_x',\n",
      " 'g:0.0050_dx']\n",
      "Index(['low', 'high', 'open', 'close', 'volume', 'del', 'w:0.00_x',\n",
      "       'w:0.00_dx', 'w:0.02_x', 'w:0.02_dx',\n",
      "       ...\n",
      "       'g:0.0046_x', 'g:0.0046_dx', 'g:0.0047_x', 'g:0.0047_dx', 'g:0.0048_x',\n",
      "       'g:0.0048_dx', 'g:0.0049_x', 'g:0.0049_dx', 'g:0.0050_x',\n",
      "       'g:0.0050_dx'],\n",
      "      dtype='object', length=167)\n"
     ]
    },
    {
     "data": {
      "text/plain": [
       "time\n",
       "1609459260    29079.560000\n",
       "1609459320    29079.523880\n",
       "1609459380    29079.470929\n",
       "1609459440    29079.407628\n",
       "1609459500    29079.292627\n",
       "                  ...     \n",
       "1612115760    33691.216883\n",
       "1612115820    33688.981675\n",
       "1612115880    33686.501051\n",
       "1612115940    33684.156347\n",
       "1612116000    33681.656339\n",
       "Name: g:0.0014_x, Length: 44261, dtype: float64"
      ]
     },
     "execution_count": 68,
     "metadata": {},
     "output_type": "execute_result"
    }
   ],
   "source": [
    "from pprint import pprint as pp\n",
    "pp(list(can.columns))\n",
    "print(can.columns)\n",
    "can['g:0.0014_x']"
   ]
  },
  {
   "cell_type": "code",
   "execution_count": null,
   "id": "creative-wallace",
   "metadata": {},
   "outputs": [
    {
     "data": {
      "application/vnd.jupyter.widget-view+json": {
       "model_id": "bf87aebce15b439a977be8ae6f249c16",
       "version_major": 2,
       "version_minor": 0
      },
      "text/plain": [
       "Canvas(toolbar=Toolbar(toolitems=[('Home', 'Reset original view', 'home', 'home'), ('Back', 'Back to previous …"
      ]
     },
     "metadata": {},
     "output_type": "display_data"
    }
   ],
   "source": [
    "%matplotlib widget\n",
    "close = can['close']\n",
    "days = np.linspace(0, len(close)/(24*60), len(close), endpoint=True)\n",
    "plt.scatter(days, close, edgecolor='k',\n",
    "                facecolors='none', marker='o', lw=1)\n",
    "plt.plot(days, can['g:0.0010_x'])\n",
    "plt.plot(days, can['g:0.0005_x'])\n",
    "#plt.plot(days, can['g:0.0008_x'])\n",
    "#plt.plot(days, can['g:0.0007_x'])\n",
    "filParams = {'x0':32640, 'dx':0.0, 'dt':1., 'g':.001, 'h':5.00e-7}\n",
    "#plt.plot(days, can['g:0.0005_x'])\n",
    "plt.show()"
   ]
  },
  {
   "cell_type": "code",
   "execution_count": null,
   "id": "fresh-italy",
   "metadata": {},
   "outputs": [
    {
     "data": {
      "application/vnd.jupyter.widget-view+json": {
       "model_id": "4cbb2abc8b5c49e9946a3bdada3bd26a",
       "version_major": 2,
       "version_minor": 0
      },
      "text/plain": [
       "Canvas(toolbar=Toolbar(toolitems=[('Home', 'Reset original view', 'home', 'home'), ('Back', 'Back to previous …"
      ]
     },
     "metadata": {},
     "output_type": "display_data"
    }
   ],
   "source": [
    "%matplotlib widget\n",
    "close = can['close']\n",
    "days = np.linspace(0, len(close)/(24*60), len(close), endpoint=True)\n",
    "plt.scatter(days, close, edgecolor='k',\n",
    "                facecolors='none', marker='o', lw=1)\n",
    "plt.plot(days, can['g:0.0010_dx'])\n",
    "#plt.plot(days, can['g:0.0005_x'])\n",
    "plt.show()"
   ]
  },
  {
   "cell_type": "code",
   "execution_count": null,
   "id": "internal-district",
   "metadata": {},
   "outputs": [
    {
     "name": "stdout",
     "output_type": "stream",
     "text": [
      "time\n",
      "1609459260         NaN\n",
      "1609459320   -0.025800\n",
      "1609459380   -0.026945\n",
      "1609459440   -0.028687\n",
      "1609459500   -0.033780\n",
      "                ...   \n",
      "1612115760   -1.532607\n",
      "1612115820   -1.555209\n",
      "1612115880   -1.592398\n",
      "1612115940   -1.616846\n",
      "1612116000   -1.649576\n",
      "Name: g:0.0010_sdx, Length: 44261, dtype: float64\n"
     ]
    },
    {
     "data": {
      "text/plain": [
       "time\n",
       "1609459260         NaN\n",
       "1609459320         NaN\n",
       "1609459380         NaN\n",
       "1609459440         NaN\n",
       "1609459500         NaN\n",
       "                ...   \n",
       "1612115760   -1.398843\n",
       "1612115820   -1.414997\n",
       "1612115880   -1.438133\n",
       "1612115940   -1.458820\n",
       "1612116000   -1.482991\n",
       "Name: SMA_sdx10, Length: 44261, dtype: float64"
      ]
     },
     "execution_count": 117,
     "metadata": {},
     "output_type": "execute_result"
    }
   ],
   "source": [
    "can['g:0.0010_sdx'] = can['g:0.0010_x'].diff()\n",
    "temp = can['g:0.0010_sdx'].ewm(span=20,min_periods=0,adjust=False,ignore_na=False).mean()\n",
    "print(temp)\n",
    "\n",
    "can['SMA_sdx10'] = can['g:0.0010_sdx'].rolling(window=30).mean()\n",
    "\n",
    "can[['g:0.0010_sdx', 'g:0.0010_x']]\n",
    "can['SMA_sdx10']"
   ]
  },
  {
   "cell_type": "code",
   "execution_count": null,
   "id": "invalid-camcorder",
   "metadata": {},
   "outputs": [
    {
     "data": {
      "application/vnd.jupyter.widget-view+json": {
       "model_id": "275b99ff5cae4920a4277e65b80613c4",
       "version_major": 2,
       "version_minor": 0
      },
      "text/plain": [
       "Canvas(toolbar=Toolbar(toolitems=[('Home', 'Reset original view', 'home', 'home'), ('Back', 'Back to previous …"
      ]
     },
     "metadata": {},
     "output_type": "display_data"
    }
   ],
   "source": [
    "plt.close('all')\n",
    "fig, ax1 = plt.subplots()\n",
    "\n",
    "color = 'tab:red'\n",
    "ax1.set_xlabel('time (D)')\n",
    "ax1.set_ylabel('g:1.e-3', color=color)\n",
    "ax1.scatter(days, can['close'], color='k')\n",
    "ax1.plot(days, can['g:0.0010_x'], color=color)\n",
    "ax1.tick_params(axis='y', labelcolor=color)\n",
    "\n",
    "ax2 = ax1.twinx()  # instantiate a second axes that shares the same x-axis\n",
    "\n",
    "color = 'tab:blue'\n",
    "ax2.set_ylabel('dx', color=color)  # we already handled the x-label with ax1\n",
    "\n",
    "ax2.plot(days, can['SMA_sdx10'], color='tab:pink')\n",
    "ax2.plot(days, can['g:0.0010_sdx'], color='tab:purple')\n",
    "ax2.plot(days, can['g:0.0010_dx'], color=color)\n",
    "ax2.tick_params(axis='y', labelcolor=color)\n",
    "\n",
    "ax2.axhline(linewidth=2, color='b')\n",
    "#cushion\n",
    "cushion = .5\n",
    "ax2.axhline(y =cushion, linewidth=1, color='b')\n",
    "ax2.axhline(y =-cushion, linewidth=1, color='b')\n",
    "\n",
    "fig.tight_layout()  # otherwise the right y-label is slightly clipped\n",
    "plt.show()"
   ]
  },
  {
   "cell_type": "code",
   "execution_count": null,
   "id": "reserved-reynolds",
   "metadata": {},
   "outputs": [
    {
     "data": {
      "text/plain": [
       "[<matplotlib.lines.Line2D at 0x12ed78a60>]"
      ]
     },
     "execution_count": 120,
     "metadata": {},
     "output_type": "execute_result"
    }
   ],
   "source": [
    "ax2.plot(days, can['SMA_sdx10'], color='tab:pink')"
   ]
  },
  {
   "cell_type": "code",
   "execution_count": null,
   "id": "israeli-reporter",
   "metadata": {},
   "outputs": [
    {
     "name": "stdout",
     "output_type": "stream",
     "text": [
      "(0.0002, 2.000200020002e-08)\n",
      "(0.0002, 8.881784197001252e-09)\n"
     ]
    }
   ],
   "source": [
    "print(benedict_bornder_constants(.0002))\n",
    "print(benedict_bornder_constants(.0002, critical=True))"
   ]
  },
  {
   "cell_type": "code",
   "execution_count": null,
   "id": "overall-album",
   "metadata": {},
   "outputs": [],
   "source": [
    "print(benedict_bornder_constants(.0002))\n",
    "print(benedict_bornder_constants(.0002, critical=True))"
   ]
  },
  {
   "cell_type": "code",
   "execution_count": null,
   "id": "broadband-campbell",
   "metadata": {},
   "outputs": [
    {
     "name": "stdout",
     "output_type": "stream",
     "text": [
      "           time       low      high      open     close     volume\n",
      "0    1612116000  32200.00  32328.42  32319.48  32207.16  55.639607\n",
      "1    1612115940  32217.68  32344.88  32217.68  32319.48  19.588375\n",
      "2    1612115880  32215.00  32415.77  32400.08  32223.85  94.305981\n",
      "3    1612115820  32280.00  32487.46  32291.58  32400.48  43.410869\n",
      "4    1612115760  32252.71  32382.77  32382.77  32291.58  84.612600\n",
      "..          ...       ...       ...       ...       ...        ...\n",
      "175  1609459500  28983.79  29031.71  29029.75  28997.34  14.545323\n",
      "176  1609459440  29028.52  29052.35  29038.45  29034.30  20.515934\n",
      "177  1609459380  29027.71  29059.40  29051.13  29041.72   8.934692\n",
      "178  1609459320  29027.14  29079.56  29079.56  29053.76  32.481299\n",
      "179  1609459260  29026.97  29083.75  29030.81  29079.56  27.489035\n",
      "\n",
      "[44263 rows x 6 columns]\n",
      "          time       low      high      open     close     volume\n",
      "0   1612116000  32200.00  32328.42  32319.48  32207.16  55.639607\n",
      "1   1612115940  32217.68  32344.88  32217.68  32319.48  19.588375\n",
      "2   1612115880  32215.00  32415.77  32400.08  32223.85  94.305981\n",
      "3   1612115820  32280.00  32487.46  32291.58  32400.48  43.410869\n",
      "4   1612115760  32252.71  32382.77  32382.77  32291.58  84.612600\n",
      "..         ...       ...       ...       ...       ...        ...\n",
      "55  1612137900  32783.37  32893.03  32893.03  32783.73  48.219563\n",
      "56  1612137840  32825.75  32911.98  32910.50  32893.03  40.682893\n",
      "57  1612137780  32910.50  32977.88  32929.19  32910.51  31.938369\n",
      "58  1612137720  32921.09  33085.34  33085.34  32929.19  36.155136\n",
      "59  1612137660  33078.70  33108.07  33084.79  33087.52   8.025773\n",
      "\n",
      "[80110 rows x 6 columns]\n",
      "0.0\n",
      "0.0001\n"
     ]
    },
    {
     "name": "stderr",
     "output_type": "stream",
     "text": [
      "/Users/dk/Documents/Projects/CB_Kalman/venv/lib/python3.8/site-packages/filterpy/gh/gh_filter.py:1091: RuntimeWarning: invalid value encountered in double_scalars\n",
      "  return (g, 0.8 * (2. - g_sqr - 2*(1-g_sqr)**.5) / g_sqr)\n"
     ]
    },
    {
     "name": "stdout",
     "output_type": "stream",
     "text": [
      "0.0002\n",
      "0.00030000000000000003\n",
      "0.0004\n",
      "0.0005\n",
      "0.0006000000000000001\n",
      "0.0007\n",
      "0.0008\n",
      "0.0009000000000000001\n",
      "0.001\n",
      "0.0011\n",
      "0.0012000000000000001\n",
      "0.0013000000000000002\n",
      "0.0014\n",
      "0.0015\n",
      "0.0016\n",
      "0.0017000000000000001\n",
      "0.0018000000000000002\n",
      "0.0019\n",
      "0.002\n",
      "0.0021000000000000003\n",
      "0.0022\n",
      "0.0023\n",
      "0.0024000000000000002\n",
      "0.0025\n",
      "0.0026000000000000003\n",
      "0.0027\n",
      "0.0028\n",
      "0.0029000000000000002\n",
      "0.003\n",
      "0.0031000000000000003\n",
      "0.0032\n",
      "0.0033\n",
      "0.0034000000000000002\n",
      "0.0035\n",
      "0.0036000000000000003\n",
      "0.0037\n",
      "0.0038\n",
      "0.0039000000000000003\n",
      "0.004\n",
      "0.0041\n",
      "0.004200000000000001\n",
      "0.0043\n",
      "0.0044\n",
      "0.0045000000000000005\n",
      "0.0046\n",
      "0.0047\n",
      "0.0048000000000000004\n",
      "0.0049\n",
      "0.005\n"
     ]
    }
   ],
   "source": [
    "import numpy as np\n",
    "from filterpy.gh import GHFilter\n",
    "from filterpy.gh.gh_filter import *\n",
    "from CB_Data import CBData\n",
    "\n",
    "canCrit = CBData.loadData('data/candles_2021-01-01T0:00:00__2021-01-31T18:00:00')\n",
    "#import ipdb; ipdb.set_trace()\n",
    "print(canCrit)\n",
    "canCrit = canCrit.append(CBData.loadData('data/candles_2021-02-01T0:00:00__2021-02-28T18:00:00'))\n",
    "print(canCrit)\n",
    "\n",
    "hyperParam = {}\n",
    "for g in np.linspace(0., 5.e-3, 51):\n",
    "    print(g)\n",
    "    _, h = benedict_bornder_constants(g=g, critical = True)\n",
    "\n",
    "    hyperParam[str(g)] = {'g': g, 'h':h}\n",
    "    #import ipdb; ipdb.set_trace()\n",
    "    f = GHFilter(x = canCrit.iloc[0]['close'], dx = 0., \n",
    "                  dt = 1., g = hyperParam[str(g)]['g'], h = hyperParam[str(g)]['h'])\n",
    "    results = f.batch_filter(list(canCrit['close']))\n",
    "    #import ipdb; ipdb.set_trace()\n",
    "    canCrit[f'g:{g:.4f}_x'] = results[1:,0]\n",
    "    canCrit[f'g:{g:.4f}_dx'] = results[1:,1]\n",
    "canCrit.set_index('time')"
   ]
  },
  {
   "cell_type": "code",
   "execution_count": null,
   "id": "loose-transmission",
   "metadata": {},
   "outputs": [
    {
     "data": {
      "application/vnd.jupyter.widget-view+json": {
       "model_id": "f465a6a84ccd42a8bb6db3dc39ea8883",
       "version_major": 2,
       "version_minor": 0
      },
      "text/plain": [
       "Canvas(toolbar=Toolbar(toolitems=[('Home', 'Reset original view', 'home', 'home'), ('Back', 'Back to previous …"
      ]
     },
     "metadata": {},
     "output_type": "display_data"
    },
    {
     "name": "stdout",
     "output_type": "stream",
     "text": [
      "g:0.0002_x\n",
      "g:0.0003_x\n",
      "g:0.0004_x\n",
      "g:0.0005_x\n",
      "g:0.0006_x\n",
      "g:0.0007_x\n",
      "g:0.0008_x\n"
     ]
    },
    {
     "data": {
      "text/plain": [
       "<AxesSubplot:xlabel='time'>"
      ]
     },
     "execution_count": 32,
     "metadata": {},
     "output_type": "execute_result"
    }
   ],
   "source": [
    "import matplotlib.pyplot as plt\n",
    "%matplotlib widget\n",
    "plt.clf()\n",
    "\n",
    "days = np.linspace(0, len(canCritT['close'])/(24*60), len(canCritT['close']), endpoint=True)\n",
    "canCritT = canCritT.sort_index()\n",
    "canCritT['close'].plot(x = days, legend = True)\n",
    "\n",
    "\n",
    "#plt.show()\n",
    "for g in [0.0002, 0.0003, 0.0004, 0.0005, 0.0006, 0.0007, 0.0008]:\n",
    "    print(f'g:{g:.4f}_x')\n",
    "    canCritT[f'g:{g:.4f}_x'].plot(x = days, legend = True)\n",
    "\n",
    "g = 0.0015\n",
    "canCritT[f'g:{g:.4f}_x'].plot(x = days, legend = True)"
   ]
  },
  {
   "cell_type": "code",
   "execution_count": null,
   "id": "miniature-drive",
   "metadata": {},
   "outputs": [
    {
     "name": "stdout",
     "output_type": "stream",
     "text": [
      "(0.0005, 4.973799150320701e-08)\n",
      "(0.0005, 1.250312578144536e-07)\n"
     ]
    },
    {
     "data": {
      "text/plain": [
       "<AxesSubplot:xlabel='time'>"
      ]
     },
     "execution_count": 36,
     "metadata": {},
     "output_type": "execute_result"
    }
   ],
   "source": [
    "\n",
    "g = 0.0005\n",
    "print(benedict_bornder_constants(g=g, critical = True))\n",
    "print(benedict_bornder_constants(g=g, critical = False))\n",
    "canCritT[f'g:{g:.4f}_x'].plot(x = days, legend = True)"
   ]
  },
  {
   "cell_type": "code",
   "execution_count": null,
   "id": "engaged-physics",
   "metadata": {},
   "outputs": [],
   "source": []
  }
 ],
 "metadata": {
  "kernelspec": {
   "display_name": "Python 3",
   "language": "python",
   "name": "python3"
  },
  "language_info": {
   "codemirror_mode": {
    "name": "ipython",
    "version": 3
   },
   "file_extension": ".py",
   "mimetype": "text/x-python",
   "name": "python",
   "nbconvert_exporter": "python",
   "pygments_lexer": "ipython3",
   "version": "3.8.2"
  }
 },
 "nbformat": 4,
 "nbformat_minor": 5
}
