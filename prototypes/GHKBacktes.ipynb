{
 "cells": [
  {
   "cell_type": "code",
   "execution_count": 1,
   "id": "cosmetic-validation",
   "metadata": {},
   "outputs": [
    {
     "data": {
      "text/html": [
       "<div>\n",
       "<style scoped>\n",
       "    .dataframe tbody tr th:only-of-type {\n",
       "        vertical-align: middle;\n",
       "    }\n",
       "\n",
       "    .dataframe tbody tr th {\n",
       "        vertical-align: top;\n",
       "    }\n",
       "\n",
       "    .dataframe thead th {\n",
       "        text-align: right;\n",
       "    }\n",
       "</style>\n",
       "<table border=\"1\" class=\"dataframe\">\n",
       "  <thead>\n",
       "    <tr style=\"text-align: right;\">\n",
       "      <th></th>\n",
       "      <th>low</th>\n",
       "      <th>high</th>\n",
       "      <th>open</th>\n",
       "      <th>close</th>\n",
       "      <th>volume</th>\n",
       "      <th>del</th>\n",
       "    </tr>\n",
       "    <tr>\n",
       "      <th>time</th>\n",
       "      <th></th>\n",
       "      <th></th>\n",
       "      <th></th>\n",
       "      <th></th>\n",
       "      <th></th>\n",
       "      <th></th>\n",
       "    </tr>\n",
       "  </thead>\n",
       "  <tbody>\n",
       "    <tr>\n",
       "      <th>1610733600</th>\n",
       "      <td>35939.53</td>\n",
       "      <td>36049.99</td>\n",
       "      <td>35951.05</td>\n",
       "      <td>35983.64</td>\n",
       "      <td>19.285531</td>\n",
       "      <td>0</td>\n",
       "    </tr>\n",
       "    <tr>\n",
       "      <th>1610733660</th>\n",
       "      <td>35932.24</td>\n",
       "      <td>36021.30</td>\n",
       "      <td>35988.73</td>\n",
       "      <td>36001.67</td>\n",
       "      <td>34.479139</td>\n",
       "      <td>60</td>\n",
       "    </tr>\n",
       "    <tr>\n",
       "      <th>1610733720</th>\n",
       "      <td>35931.33</td>\n",
       "      <td>36000.00</td>\n",
       "      <td>35982.25</td>\n",
       "      <td>35936.12</td>\n",
       "      <td>22.656580</td>\n",
       "      <td>120</td>\n",
       "    </tr>\n",
       "    <tr>\n",
       "      <th>1610733780</th>\n",
       "      <td>35939.31</td>\n",
       "      <td>36044.08</td>\n",
       "      <td>35948.08</td>\n",
       "      <td>36017.18</td>\n",
       "      <td>21.700322</td>\n",
       "      <td>180</td>\n",
       "    </tr>\n",
       "    <tr>\n",
       "      <th>1610733840</th>\n",
       "      <td>35999.51</td>\n",
       "      <td>36044.08</td>\n",
       "      <td>36003.10</td>\n",
       "      <td>36014.74</td>\n",
       "      <td>27.093428</td>\n",
       "      <td>240</td>\n",
       "    </tr>\n",
       "    <tr>\n",
       "      <th>...</th>\n",
       "      <td>...</td>\n",
       "      <td>...</td>\n",
       "      <td>...</td>\n",
       "      <td>...</td>\n",
       "      <td>...</td>\n",
       "      <td>...</td>\n",
       "    </tr>\n",
       "    <tr>\n",
       "      <th>1611333360</th>\n",
       "      <td>32520.23</td>\n",
       "      <td>32571.17</td>\n",
       "      <td>32530.01</td>\n",
       "      <td>32535.98</td>\n",
       "      <td>15.063178</td>\n",
       "      <td>599760</td>\n",
       "    </tr>\n",
       "    <tr>\n",
       "      <th>1611333420</th>\n",
       "      <td>32496.13</td>\n",
       "      <td>32557.45</td>\n",
       "      <td>32535.98</td>\n",
       "      <td>32537.79</td>\n",
       "      <td>15.025415</td>\n",
       "      <td>599820</td>\n",
       "    </tr>\n",
       "    <tr>\n",
       "      <th>1611333480</th>\n",
       "      <td>32503.28</td>\n",
       "      <td>32630.89</td>\n",
       "      <td>32531.72</td>\n",
       "      <td>32630.89</td>\n",
       "      <td>20.374521</td>\n",
       "      <td>599880</td>\n",
       "    </tr>\n",
       "    <tr>\n",
       "      <th>1611333540</th>\n",
       "      <td>32613.32</td>\n",
       "      <td>32663.82</td>\n",
       "      <td>32630.89</td>\n",
       "      <td>32655.44</td>\n",
       "      <td>10.641015</td>\n",
       "      <td>599940</td>\n",
       "    </tr>\n",
       "    <tr>\n",
       "      <th>1611333600</th>\n",
       "      <td>32596.63</td>\n",
       "      <td>32663.61</td>\n",
       "      <td>32661.07</td>\n",
       "      <td>32617.58</td>\n",
       "      <td>15.397413</td>\n",
       "      <td>600000</td>\n",
       "    </tr>\n",
       "  </tbody>\n",
       "</table>\n",
       "<p>10001 rows × 6 columns</p>\n",
       "</div>"
      ],
      "text/plain": [
       "                 low      high      open     close     volume     del\n",
       "time                                                                 \n",
       "1610733600  35939.53  36049.99  35951.05  35983.64  19.285531       0\n",
       "1610733660  35932.24  36021.30  35988.73  36001.67  34.479139      60\n",
       "1610733720  35931.33  36000.00  35982.25  35936.12  22.656580     120\n",
       "1610733780  35939.31  36044.08  35948.08  36017.18  21.700322     180\n",
       "1610733840  35999.51  36044.08  36003.10  36014.74  27.093428     240\n",
       "...              ...       ...       ...       ...        ...     ...\n",
       "1611333360  32520.23  32571.17  32530.01  32535.98  15.063178  599760\n",
       "1611333420  32496.13  32557.45  32535.98  32537.79  15.025415  599820\n",
       "1611333480  32503.28  32630.89  32531.72  32630.89  20.374521  599880\n",
       "1611333540  32613.32  32663.82  32630.89  32655.44  10.641015  599940\n",
       "1611333600  32596.63  32663.61  32661.07  32617.58  15.397413  600000\n",
       "\n",
       "[10001 rows x 6 columns]"
      ]
     },
     "execution_count": 1,
     "metadata": {},
     "output_type": "execute_result"
    }
   ],
   "source": []
  },
  {
   "cell_type": "code",
   "execution_count": null,
   "id": "composed-freight",
   "metadata": {},
   "outputs": [],
   "source": []
  },
  {
   "cell_type": "code",
   "execution_count": 2,
   "id": "speaking-repeat",
   "metadata": {},
   "outputs": [
    {
     "name": "stdout",
     "output_type": "stream",
     "text": [
      "0.0\n",
      "debug 1\n",
      "debug 2\n",
      "0.0\n",
      "0.05\n",
      "debug 1\n",
      "debug 2\n",
      "0.05\n",
      "0.1\n",
      "debug 1\n",
      "debug 2\n",
      "0.1\n",
      "0.15000000000000002\n",
      "debug 1\n",
      "debug 2\n",
      "0.15000000000000002\n",
      "0.2\n",
      "debug 1\n",
      "debug 2\n",
      "0.2\n",
      "0.25\n",
      "debug 1\n",
      "debug 2\n",
      "0.25\n",
      "0.30000000000000004\n",
      "debug 1\n",
      "debug 2\n",
      "0.30000000000000004\n",
      "0.35000000000000003\n",
      "debug 1\n",
      "debug 2\n",
      "0.35000000000000003\n",
      "0.4\n",
      "debug 1\n",
      "debug 2\n",
      "0.4\n",
      "0.45\n",
      "debug 1\n",
      "debug 2\n",
      "0.45\n",
      "0.5\n",
      "debug 1\n",
      "debug 2\n",
      "0.5\n"
     ]
    }
   ],
   "source": [
    "#run filker with different params on data\n",
    "# setting GHK\n",
    "import numpy as np\n",
    "from filterpy.gh import GHKFilter\n",
    "\n",
    "hyperParam = {}\n",
    "\n",
    "for w in np.arange(0., .55, .05):\n",
    "    print(w)\n",
    "    g = 2 * w\n",
    "    h = 2 * w**2\n",
    "    k = w**3\n",
    "    hyperParam[str(w)] = {'g': g, 'h':h, 'k':k}\n",
    "    #import ipdb; ipdb.set_trace()\n",
    "    print('debug 1')\n",
    "    f = GHKFilter(x = can.iloc[0]['close'], dx = 0., ddx = 0., \n",
    "                  dt = 1., g = hyperParam[str(w)]['g'], h = hyperParam[str(w)]['h'], k = hyperParam[str(w)]['k'])\n",
    "    results = f.batch_filter(list(can['close']))\n",
    "    print('debug 2')\n",
    "    #import ipdb; ipdb.set_trace()\n",
    "    can[f'w:{w:.2f}_x'] = results[1:,0]\n",
    "    can[f'w:{w:.2f}_dx'] = results[1:,1]\n",
    "    print(w)\n",
    "    \n",
    "    \n",
    "#f = GHKFilter(x, dx, ddx, dt, g, h, k)\n",
    "\n",
    "#results = f.batch_filter(list(can['close'])"
   ]
  },
  {
   "cell_type": "code",
   "execution_count": 17,
   "id": "cellular-growing",
   "metadata": {},
   "outputs": [
    {
     "data": {
      "application/vnd.jupyter.widget-view+json": {
       "model_id": "46556904812346599b38c49ff1ce62f7",
       "version_major": 2,
       "version_minor": 0
      },
      "text/plain": [
       "Canvas(toolbar=Toolbar(toolitems=[('Home', 'Reset original view', 'home', 'home'), ('Back', 'Back to previous …"
      ]
     },
     "metadata": {},
     "output_type": "display_data"
    },
    {
     "data": {
      "text/plain": [
       "<AxesSubplot:xlabel='delMin'>"
      ]
     },
     "execution_count": 17,
     "metadata": {},
     "output_type": "execute_result"
    }
   ],
   "source": [
    "%matplotlib widget\n",
    "import matplotlib.pyplot as plt\n",
    "import numpy as np\n",
    "import pandas as pd\n",
    "\n",
    "#plt.ioff()\n",
    "can.iloc[0:10]\n",
    "can['delMin'] = can['del']/60\n",
    "can['delMin'] = pd.to_numeric(can['delMin'], downcast='integer')\n",
    "can.head()\n",
    "#can.plot(x= 'del', y = ['close', 'w:0.05_x', 'w:0.15_x', 'w:0.25_x','w:0.35_x','w:0.45_x'])\n",
    "can.plot(x= 'delMin', y = ['close', 'w:0.05_x', 'w:0.10_x', 'w:0.15_x'])\n",
    "\n",
    "\n",
    "#plt.close(\"all\")\n",
    "#plt.plot(s)\n",
    "#plt.show()"
   ]
  },
  {
   "cell_type": "code",
   "execution_count": 18,
   "id": "friendly-headset",
   "metadata": {},
   "outputs": [],
   "source": [
    "import pickle\n",
    "filePath = './data/candw-.05'\n",
    "outFile = open(filePath,'wb')\n",
    "pickle.dump(can, outFile)\n",
    "outFile.close()"
   ]
  },
  {
   "cell_type": "code",
   "execution_count": 19,
   "id": "valid-clone",
   "metadata": {},
   "outputs": [
    {
     "name": "stdout",
     "output_type": "stream",
     "text": [
      "0.0\n",
      "debug 1\n",
      "debug 2\n",
      "0.0\n",
      "0.01\n",
      "debug 1\n",
      "debug 2\n",
      "0.01\n",
      "0.02\n",
      "debug 1\n",
      "debug 2\n",
      "0.02\n",
      "0.03\n",
      "debug 1\n",
      "debug 2\n",
      "0.03\n",
      "0.04\n",
      "debug 1\n",
      "debug 2\n",
      "0.04\n"
     ]
    }
   ],
   "source": [
    "#run filker with different params on data\n",
    "# setting GHK\n",
    "import numpy as np\n",
    "from filterpy.gh import GHKFilter\n",
    "\n",
    "hyperParam = {}\n",
    "\n",
    "for w in np.arange(0., .05, .01):\n",
    "    print(w)\n",
    "    g = 2 * w\n",
    "    h = 2 * w**2\n",
    "    k = w**3\n",
    "    hyperParam[str(w)] = {'g': g, 'h':h, 'k':k}\n",
    "    #import ipdb; ipdb.set_trace()\n",
    "    f = GHKFilter(x = can.iloc[0]['close'], dx = 0., ddx = 0., \n",
    "                  dt = 1., g = hyperParam[str(w)]['g'], h = hyperParam[str(w)]['h'], k = hyperParam[str(w)]['k'])\n",
    "    results = f.batch_filter(list(can['close']))\n",
    "    #import ipdb; ipdb.set_trace()\n",
    "    can[f'w:{w:.2f}_x'] = results[1:,0]\n",
    "    can[f'w:{w:.2f}_dx'] = results[1:,1]\n",
    "    print(w)\n",
    "    "
   ]
  },
  {
   "cell_type": "code",
   "execution_count": 20,
   "id": "wooden-greek",
   "metadata": {},
   "outputs": [
    {
     "data": {
      "application/vnd.jupyter.widget-view+json": {
       "model_id": "4ff1e89e25d7407f97035ffac628c307",
       "version_major": 2,
       "version_minor": 0
      },
      "text/plain": [
       "Canvas(toolbar=Toolbar(toolitems=[('Home', 'Reset original view', 'home', 'home'), ('Back', 'Back to previous …"
      ]
     },
     "metadata": {},
     "output_type": "display_data"
    },
    {
     "data": {
      "text/plain": [
       "<AxesSubplot:xlabel='delMin'>"
      ]
     },
     "execution_count": 20,
     "metadata": {},
     "output_type": "execute_result"
    }
   ],
   "source": [
    "%matplotlib widget\n",
    "import matplotlib.pyplot as plt\n",
    "import numpy as np\n",
    "import pandas as pd\n",
    "\n",
    "#plt.ioff()\n",
    "can.iloc[0:10]\n",
    "can['delMin'] = can['del']/60\n",
    "can['delMin'] = pd.to_numeric(can['delMin'], downcast='integer')\n",
    "can.head()\n",
    "#can.plot(x= 'del', y = ['close', 'w:0.05_x', 'w:0.15_x', 'w:0.25_x','w:0.35_x','w:0.45_x'])\n",
    "can.plot(x= 'delMin', y = ['close', 'w:0.01_x', 'w:0.02_x', 'w:0.03_x', 'w:0.04_x', 'w:0.05_x'])\n"
   ]
  },
  {
   "cell_type": "code",
   "execution_count": 26,
   "id": "advised-bulgaria",
   "metadata": {},
   "outputs": [
    {
     "name": "stdout",
     "output_type": "stream",
     "text": [
      "0.0\n",
      "0.0\n",
      "0.001\n",
      "0.001\n",
      "0.002\n",
      "0.002\n",
      "0.003\n",
      "0.003\n",
      "0.004\n",
      "0.004\n",
      "0.005\n",
      "0.005\n",
      "0.006\n",
      "0.006\n",
      "0.007\n",
      "0.007\n",
      "0.008\n",
      "0.008\n",
      "0.009000000000000001\n",
      "0.009000000000000001\n"
     ]
    }
   ],
   "source": [
    "#run filker with different params on data\n",
    "# setting GHK\n",
    "import numpy as np\n",
    "from filterpy.gh import GHKFilter\n",
    "\n",
    "hyperParam = {}\n",
    "\n",
    "for w in np.arange(0., .01, .001):\n",
    "    print(w)\n",
    "    g = 2 * w\n",
    "    h = 2 * w**2\n",
    "    k = w**3\n",
    "    hyperParam[str(w)] = {'g': g, 'h':h, 'k':k}\n",
    "    #import ipdb; ipdb.set_trace()\n",
    "    f = GHKFilter(x = can.iloc[0]['close'], dx = 0., ddx = 0., \n",
    "                  dt = 1., g = hyperParam[str(w)]['g'], h = hyperParam[str(w)]['h'], k = hyperParam[str(w)]['k'])\n",
    "    results = f.batch_filter(list(can['close']))\n",
    "    #import ipdb; ipdb.set_trace()\n",
    "    can[f'w:{w:.3f}_x'] = results[1:,0]\n",
    "    can[f'w:{w:.3f}_dx'] = results[1:,1]\n",
    "    print(w)"
   ]
  },
  {
   "cell_type": "code",
   "execution_count": 32,
   "id": "dangerous-teacher",
   "metadata": {},
   "outputs": [
    {
     "data": {
      "application/vnd.jupyter.widget-view+json": {
       "model_id": "7142049a8b8d421cbf52b8484aec39a9",
       "version_major": 2,
       "version_minor": 0
      },
      "text/plain": [
       "Canvas(toolbar=Toolbar(toolitems=[('Home', 'Reset original view', 'home', 'home'), ('Back', 'Back to previous …"
      ]
     },
     "metadata": {},
     "output_type": "display_data"
    },
    {
     "data": {
      "text/plain": [
       "<AxesSubplot:xlabel='delMin'>"
      ]
     },
     "execution_count": 32,
     "metadata": {},
     "output_type": "execute_result"
    }
   ],
   "source": [
    "%matplotlib widget\n",
    "import matplotlib.pyplot as plt\n",
    "import numpy as np\n",
    "import pandas as pd\n",
    "\n",
    "#plt.ioff()\n",
    "can.iloc[0:10]\n",
    "can['delMin'] = can['del']/60\n",
    "can['delMin'] = pd.to_numeric(can['delMin'], downcast='integer')\n",
    "can.head()\n",
    "#can.plot(x= 'del', y = ['close', 'w:0.05_x', 'w:0.15_x', 'w:0.25_x','w:0.35_x','w:0.45_x'])\n",
    "can.plot(x= 'delMin', y = ['close','w:0.002_x','w:0.001_x'])"
   ]
  },
  {
   "cell_type": "code",
   "execution_count": 30,
   "id": "stainless-couple",
   "metadata": {},
   "outputs": [
    {
     "name": "stdout",
     "output_type": "stream",
     "text": [
      "0.0\n",
      "0.0\n",
      "0.0002\n",
      "0.0002\n",
      "0.0004\n",
      "0.0004\n",
      "0.0006000000000000001\n",
      "0.0006000000000000001\n",
      "0.0008\n",
      "0.0008\n"
     ]
    }
   ],
   "source": [
    "#run filker with different params on data\n",
    "# setting GHK\n",
    "import numpy as np\n",
    "from filterpy.gh import GHKFilter\n",
    "\n",
    "hyperParam = {}\n",
    "\n",
    "for w in np.arange(0., .001, .0002):\n",
    "    print(w)\n",
    "    g = 2 * w\n",
    "    h = 2 * w**2\n",
    "    k = w**3\n",
    "    hyperParam[str(w)] = {'g': g, 'h':h, 'k':k}\n",
    "    #import ipdb; ipdb.set_trace()\n",
    "    f = GHKFilter(x = can.iloc[0]['close'], dx = 0., ddx = 0., \n",
    "                  dt = 1., g = hyperParam[str(w)]['g'], h = hyperParam[str(w)]['h'], k = hyperParam[str(w)]['k'])\n",
    "    results = f.batch_filter(list(can['close']))\n",
    "    #import ipdb; ipdb.set_trace()\n",
    "    can[f'w:{w:.4f}_x'] = results[1:,0]\n",
    "    can[f'w:{w:.4f}_dx'] = results[1:,1]\n",
    "    print(w)"
   ]
  },
  {
   "cell_type": "code",
   "execution_count": 31,
   "id": "maritime-sunrise",
   "metadata": {},
   "outputs": [
    {
     "data": {
      "application/vnd.jupyter.widget-view+json": {
       "model_id": "e9206b175da541e08cb8d031d4a414b3",
       "version_major": 2,
       "version_minor": 0
      },
      "text/plain": [
       "Canvas(toolbar=Toolbar(toolitems=[('Home', 'Reset original view', 'home', 'home'), ('Back', 'Back to previous …"
      ]
     },
     "metadata": {},
     "output_type": "display_data"
    },
    {
     "data": {
      "text/plain": [
       "<AxesSubplot:xlabel='delMin'>"
      ]
     },
     "execution_count": 31,
     "metadata": {},
     "output_type": "execute_result"
    }
   ],
   "source": [
    "%matplotlib widget\n",
    "import matplotlib.pyplot as plt\n",
    "import numpy as np\n",
    "import pandas as pd\n",
    "\n",
    "#plt.ioff()\n",
    "can.iloc[0:10]\n",
    "can['delMin'] = can['del']/60\n",
    "can['delMin'] = pd.to_numeric(can['delMin'], downcast='integer')\n",
    "can.head()\n",
    "#can.plot(x= 'del', y = ['close', 'w:0.05_x', 'w:0.15_x', 'w:0.25_x','w:0.35_x','w:0.45_x'])\n",
    "can.plot(x= 'delMin', y = ['close','w:0.001_x', 'w:0.0008_x','w:0.0006_x'])"
   ]
  },
  {
   "cell_type": "code",
   "execution_count": 33,
   "id": "southeast-armor",
   "metadata": {},
   "outputs": [
    {
     "data": {
      "application/vnd.jupyter.widget-view+json": {
       "model_id": "829a81734bb04c06a3475fb1a6deb98a",
       "version_major": 2,
       "version_minor": 0
      },
      "text/plain": [
       "Canvas(toolbar=Toolbar(toolitems=[('Home', 'Reset original view', 'home', 'home'), ('Back', 'Back to previous …"
      ]
     },
     "metadata": {},
     "output_type": "display_data"
    },
    {
     "data": {
      "text/plain": [
       "<AxesSubplot:xlabel='delMin'>"
      ]
     },
     "execution_count": 33,
     "metadata": {},
     "output_type": "execute_result"
    }
   ],
   "source": [
    "can.plot(x= 'delMin', y = ['close','w:0.001_dx', 'w:0.0008_dx','w:0.0006_dx'])"
   ]
  },
  {
   "cell_type": "code",
   "execution_count": 34,
   "id": "valid-confusion",
   "metadata": {},
   "outputs": [
    {
     "ename": "SyntaxError",
     "evalue": "invalid syntax (<ipython-input-34-bd21621ddeda>, line 3)",
     "output_type": "error",
     "traceback": [
      "\u001b[0;36m  File \u001b[0;32m\"<ipython-input-34-bd21621ddeda>\"\u001b[0;36m, line \u001b[0;32m3\u001b[0m\n\u001b[0;31m    yyaxis left\u001b[0m\n\u001b[0m           ^\u001b[0m\n\u001b[0;31mSyntaxError\u001b[0m\u001b[0;31m:\u001b[0m invalid syntax\n"
     ]
    }
   ],
   "source": [
    "x = can['delMin'];\n",
    "y = can['close'];\n",
    "yyaxis left\n",
    "plot(x,y);"
   ]
  },
  {
   "cell_type": "code",
   "execution_count": 40,
   "id": "manual-button",
   "metadata": {},
   "outputs": [
    {
     "data": {
      "application/vnd.jupyter.widget-view+json": {
       "model_id": "19ba4fe3b3e14a08aa77da90ae6cb7c0",
       "version_major": 2,
       "version_minor": 0
      },
      "text/plain": [
       "Canvas(toolbar=Toolbar(toolitems=[('Home', 'Reset original view', 'home', 'home'), ('Back', 'Back to previous …"
      ]
     },
     "metadata": {},
     "output_type": "display_data"
    }
   ],
   "source": [
    "import numpy as np\n",
    "import matplotlib.pyplot as plt\n",
    "\n",
    "# Create some mock data\n",
    "t = can['delMin']\n",
    "data1 = can['close']\n",
    "data2 = can['w:0.002_dx']\n",
    "\n",
    "fig, ax1 = plt.subplots()\n",
    "\n",
    "color = 'tab:red'\n",
    "ax1.set_xlabel('time (m)')\n",
    "ax1.set_ylabel('close price', color=color)\n",
    "ax1.plot(t, data1, color=color)\n",
    "ax1.tick_params(axis='y', labelcolor=color)\n",
    "\n",
    "ax2 = ax1.twinx()  # instantiate a second axes that shares the same x-axis\n",
    "\n",
    "color = 'tab:blue'\n",
    "ax2.set_ylabel('velocity', color=color)  # we already handled the x-label with ax1\n",
    "plt.axhline(y=0, color='k', linestyle='-')\n",
    "ax2.plot(t, data2, color=color)\n",
    "ax2.tick_params(axis='y', labelcolor=color)\n",
    "\n",
    "fig.tight_layout()  # otherwise the right y-label is slightly clipped\n",
    "plt.show()"
   ]
  },
  {
   "cell_type": "code",
   "execution_count": null,
   "id": "stretch-butter",
   "metadata": {},
   "outputs": [],
   "source": []
  }
 ],
 "metadata": {
  "kernelspec": {
   "display_name": "Python 3",
   "language": "python",
   "name": "python3"
  },
  "language_info": {
   "codemirror_mode": {
    "name": "ipython",
    "version": 3
   },
   "file_extension": ".py",
   "mimetype": "text/x-python",
   "name": "python",
   "nbconvert_exporter": "python",
   "pygments_lexer": "ipython3",
   "version": "3.8.2"
  }
 },
 "nbformat": 4,
 "nbformat_minor": 5
}