{
 "cells": [
  {
   "cell_type": "code",
   "execution_count": null,
   "id": "stunning-biodiversity",
   "metadata": {},
   "outputs": [],
   "source": []
  },
  {
   "cell_type": "code",
   "execution_count": null,
   "id": "paperback-syria",
   "metadata": {},
   "outputs": [],
   "source": []
  },
  {
   "cell_type": "code",
   "execution_count": 1,
   "id": "british-industry",
   "metadata": {},
   "outputs": [],
   "source": [
    "from numpy.random import randn\n",
    "def gen_data(x0, dx, ddx, count, noise_factor):\n",
    "    return [x0 + dx*i +.5*ddx*(i**2) + randn()*noise_factor for i in range(count)]"
   ]
  },
  {
   "cell_type": "code",
   "execution_count": 8,
   "id": "proper-settlement",
   "metadata": {},
   "outputs": [
    {
     "data": {
      "application/vnd.jupyter.widget-view+json": {
       "model_id": "41016f4b92e2452db370459f68225023",
       "version_major": 2,
       "version_minor": 0
      },
      "text/plain": [
       "interactive(children=(FloatSlider(value=5.0, continuous_update=False, description='x', max=200.0, min=-200.0),…"
      ]
     },
     "metadata": {},
     "output_type": "display_data"
    }
   ],
   "source": [
    "from ipywidgets import interact\n",
    "import matplotlib.pyplot as plt\n",
    "from filterpy.gh import GHKFilter\n",
    "\n",
    "# my FloatSlider returns an ipywidgets.FloatSlider with\n",
    "# continuous_update=False. Filtering code runs too slowly\n",
    "# to instantly react to slider changes.\n",
    "\n",
    "#rom Kalman-and-Bayesian-Filters-in-Python.kf_book.book_plots import FloatSlider\n",
    "\n",
    "\"\"\"\n",
    "path = \"Kalman-and-Bayesian-Filters-in-Python/kf_book/book_plots.py\"\n",
    "import importlib.util\n",
    "spec = importlib.util.spec_from_file_location(\"FloatSlider\", path)\n",
    "foo = importlib.util.module_from_spec(spec)\n",
    "spec.loader.exec_module(foo)\n",
    "\"\"\"\n",
    "import sys\n",
    "sys.path.append('Kalman-and-Bayesian-Filters-in-Python/kf_book')\n",
    "from book_plots import FloatSlider\n",
    "\n",
    "#zs1 = gen_data(x0=5, dx=5., count=100, noise_factor=50)\n",
    "ddx = -5\n",
    "zACC = gen_data(x0=5, dx= 5., ddx = -.01, count=1000, noise_factor=50)\n",
    "#print(zACC)\n",
    "\n",
    "\n",
    "fig = None\n",
    "def interactive_gh(x, dx, ddx, g, h, k):\n",
    "    global fig\n",
    "    if fig is not None: plt.close(fig)\n",
    "    fig = plt.figure()\n",
    "    f = GHKFilter(x=x, dx=dx, ddx=ddx, dt=1., g=g, h=h, k=k)\n",
    "    data = f.batch_filter(zACC)\n",
    "    #print(data[:, 0])\n",
    "    plt.scatter(range(len(zACC)), zACC, edgecolor='k', \n",
    "                facecolors='none', marker='o', lw=1)\n",
    "    plt.plot(data[:, 0], color='b')\n",
    "\n",
    "interact(interactive_gh,           \n",
    "         x=FloatSlider(value=5, min=-200, max=200), \n",
    "         dx=FloatSlider(value=5., min=-50, max=50), \n",
    "         ddx=FloatSlider(value=-.1, min=-1, max=1), \n",
    "         g=FloatSlider(value=.1, min=.01, max=2, step=.02), \n",
    "         h=FloatSlider(value=.02, min=.0, max=.5, step=.01),\n",
    "         k=FloatSlider(value=.00, min=.0, max=.1, step=.0001, readout_format = '.4f'));"
   ]
  },
  {
   "cell_type": "code",
   "execution_count": null,
   "id": "current-desktop",
   "metadata": {},
   "outputs": [],
   "source": []
  }
 ],
 "metadata": {
  "kernelspec": {
   "display_name": "Python 3",
   "language": "python",
   "name": "python3"
  },
  "language_info": {
   "codemirror_mode": {
    "name": "ipython",
    "version": 3
   },
   "file_extension": ".py",
   "mimetype": "text/x-python",
   "name": "python",
   "nbconvert_exporter": "python",
   "pygments_lexer": "ipython3",
   "version": "3.8.2"
  }
 },
 "nbformat": 4,
 "nbformat_minor": 5
}
