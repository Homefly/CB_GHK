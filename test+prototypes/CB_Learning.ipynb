{
 "cells": [
  {
   "cell_type": "code",
   "execution_count": 2,
   "id": "excessive-priest",
   "metadata": {},
   "outputs": [],
   "source": [
    "#Data for curser\n",
    "public = '20ae3487affd920285ad1729a0ef6d88'\n",
    "passphrase = 'kq48v9j7d4d'\n",
    "secret = '4dZRg2UIbwy1mFV0zE3nPB5rFwPZA0toYqMLXtXdJ9rQabTH/ql6GDPF9kef5nuDzOIqnHeJIuA5m5+exnzolg=='\n"
   ]
  },
  {
   "cell_type": "code",
   "execution_count": 1,
   "id": "seven-landing",
   "metadata": {},
   "outputs": [],
   "source": [
    "\n",
    "import cbpro\n",
    "public_client = cbpro.PublicClient()"
   ]
  },
  {
   "cell_type": "code",
   "execution_count": 2,
   "id": "stable-adoption",
   "metadata": {},
   "outputs": [
    {
     "data": {
      "text/plain": [
       "{'bids': [['32030.99', '0.0192', 1]],\n",
       " 'asks': [['32040.69', '0.78309627', 1]],\n",
       " 'sequence': 20215955407}"
      ]
     },
     "execution_count": 2,
     "metadata": {},
     "output_type": "execute_result"
    }
   ],
   "source": [
    "public_client.get_product_order_book('BTC-USD')"
   ]
  },
  {
   "cell_type": "code",
   "execution_count": 3,
   "id": "hidden-recorder",
   "metadata": {},
   "outputs": [
    {
     "data": {
      "text/plain": [
       "{'trade_id': 78558564,\n",
       " 'price': '1219.92',\n",
       " 'size': '0.04979584',\n",
       " 'time': '2021-01-21T21:27:32.427843Z',\n",
       " 'bid': '1219.94',\n",
       " 'ask': '1220.42',\n",
       " 'volume': '647485.1629975'}"
      ]
     },
     "execution_count": 3,
     "metadata": {},
     "output_type": "execute_result"
    }
   ],
   "source": [
    "public_client.get_product_ticker(product_id='ETH-USD')"
   ]
  },
  {
   "cell_type": "code",
   "execution_count": 4,
   "id": "novel-updating",
   "metadata": {},
   "outputs": [
    {
     "data": {
      "text/plain": [
       "{'open': '1324.12',\n",
       " 'high': '1390',\n",
       " 'low': '1161',\n",
       " 'volume': '647485.1629975',\n",
       " 'last': '1219.79',\n",
       " 'volume_30day': '15892508.291772'}"
      ]
     },
     "execution_count": 4,
     "metadata": {},
     "output_type": "execute_result"
    }
   ],
   "source": [
    "public_client.get_product_24hr_stats('ETH-USD')"
   ]
  },
  {
   "cell_type": "code",
   "execution_count": null,
   "id": "normal-theory",
   "metadata": {},
   "outputs": [],
   "source": [
    "import matplotlib.pyplot as plt\n",
    "import matplotlib.animation as animation\n",
    "from matplot lib import style\n"
   ]
  },
  {
   "cell_type": "code",
   "execution_count": null,
   "id": "peripheral-beads",
   "metadata": {},
   "outputs": [],
   "source": [
    "style.use('fivethirtyeight')\n",
    "\n",
    "fig = plt.figure()\n",
    "ax1 = fig.add_subplot(1,1,1)"
   ]
  },
  {
   "cell_type": "code",
   "execution_count": null,
   "id": "promising-think",
   "metadata": {},
   "outputs": [],
   "source": [
    "def animate(i):\n",
    "    graph_data = open('samplefile.txt', 'r').read()\n",
    "    lines = graph_data.split('\\n')\n",
    "    xs = []\n",
    "    ys = []\n",
    "    \n",
    "    \n",
    "    "
   ]
  },
  {
   "cell_type": "code",
   "execution_count": null,
   "id": "colored-burner",
   "metadata": {},
   "outputs": [],
   "source": [
    "cur = cbpro.PublicClient()\n",
    "currencies = cur.get_currencies()\n",
    "cur = [currencies[x]['id'] for x in range(len(currencies))]"
   ]
  }
 ],
 "metadata": {
  "kernelspec": {
   "display_name": "Python 3",
   "language": "python",
   "name": "python3"
  },
  "language_info": {
   "codemirror_mode": {
    "name": "ipython",
    "version": 3
   },
   "file_extension": ".py",
   "mimetype": "text/x-python",
   "name": "python",
   "nbconvert_exporter": "python",
   "pygments_lexer": "ipython3",
   "version": "3.8.2"
  }
 },
 "nbformat": 4,
 "nbformat_minor": 5
}
