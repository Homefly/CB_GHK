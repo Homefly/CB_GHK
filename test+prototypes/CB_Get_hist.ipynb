{
 "cells": [
  {
   "cell_type": "code",
   "execution_count": 17,
   "id": "fifth-prayer",
   "metadata": {},
   "outputs": [
    {
     "name": "stdout",
     "output_type": "stream",
     "text": [
      "test\n"
     ]
    },
    {
     "data": {
      "text/plain": [
       "<bound method NDFrame.head of            time       low      high      open     close     volume\n",
       "0    1611338400  32363.47  32425.55  32371.13  32407.77   9.706368\n",
       "1    1611338340  32349.99  32393.76  32350.00  32374.19  12.865255\n",
       "2    1611338280  32315.36  32350.00  32345.23  32350.00  17.952454\n",
       "3    1611338220  32311.94  32350.00  32332.03  32349.82  12.302965\n",
       "4    1611338160  32298.83  32343.67  32342.24  32333.58   6.455700\n",
       "..          ...       ...       ...       ...       ...        ...\n",
       "196  1611326640  32293.14  32350.00  32326.55  32346.00  38.276682\n",
       "197  1611326580  32307.85  32335.28  32333.44  32324.16  15.005228\n",
       "198  1611326520  32304.76  32350.00  32304.77  32330.09  19.305429\n",
       "199  1611326460  32273.10  32325.21  32282.29  32304.78  12.234866\n",
       "200  1611326400  32258.56  32350.00  32349.99  32274.99  26.518412\n",
       "\n",
       "[201 rows x 6 columns]>"
      ]
     },
     "execution_count": 17,
     "metadata": {},
     "output_type": "execute_result"
    }
   ],
   "source": [
    "import cbpro\n",
    "import pickle\n",
    "import pandas as pd\n",
    "import os\n",
    "\n",
    "#params\n",
    "candStart = '2021-01-22T14:40:00'\n",
    "candEnd = '2021-01-22T18:00:00'\n",
    "filePath = './data/candles_' + candStart + '_' + candEnd\n",
    "\n",
    "if os.path.exists(filePath):\n",
    "    #load data\n",
    "    infile = open(filePath, 'rb')\n",
    "    dL = pickle.load(infile)\n",
    "    infile.close()\n",
    "\n",
    "else:\n",
    "    #download data from coinbase\n",
    "    cur = cbpro.PublicClient()\n",
    "    dL = cur.get_product_historic_rates('BTC-USD', start = candStart, end  = candEnd) #200 POINTS MAX\n",
    "\n",
    "    outFile = open(filePath,'wb')\n",
    "    pickle.dump(dL, outFile)\n",
    "    outFile.close()\n",
    "\n",
    "candles = pd.DataFrame(dL, columns=['time', 'low', 'high', 'open', 'close', 'volume'])\n",
    "candles.head"
   ]
  },
  {
   "cell_type": "code",
   "execution_count": null,
   "id": "desperate-thousand",
   "metadata": {},
   "outputs": [],
   "source": []
  }
 ],
 "metadata": {
  "kernelspec": {
   "display_name": "Python 3",
   "language": "python",
   "name": "python3"
  },
  "language_info": {
   "codemirror_mode": {
    "name": "ipython",
    "version": 3
   },
   "file_extension": ".py",
   "mimetype": "text/x-python",
   "name": "python",
   "nbconvert_exporter": "python",
   "pygments_lexer": "ipython3",
   "version": "3.8.2"
  }
 },
 "nbformat": 4,
 "nbformat_minor": 5
}
